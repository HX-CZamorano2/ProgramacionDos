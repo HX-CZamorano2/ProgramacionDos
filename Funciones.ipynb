{
 "cells": [
  {
   "cell_type": "markdown",
   "id": "6702d7cb-d8d4-4cc8-8684-434807a6b2b3",
   "metadata": {},
   "source": [
    "### Definiendo una función"
   ]
  },
  {
   "cell_type": "code",
   "execution_count": 29,
   "id": "0fa3d968-8ebd-4a1c-bbf6-884d8521176a",
   "metadata": {},
   "outputs": [],
   "source": [
    "def Hola():\n",
    "    print(\"Esta es una función Python\")"
   ]
  },
  {
   "cell_type": "markdown",
   "id": "abee6e66-1e29-4c3c-b0b6-c364ccffd4aa",
   "metadata": {},
   "source": [
    "### Accediendo a una función"
   ]
  },
  {
   "cell_type": "code",
   "execution_count": 30,
   "id": "ec3097b5-8cc0-4f5c-bf5b-88cf934b80fa",
   "metadata": {},
   "outputs": [
    {
     "name": "stdout",
     "output_type": "stream",
     "text": [
      "Esta es una función Python\n"
     ]
    }
   ],
   "source": [
    "Hola()"
   ]
  },
  {
   "cell_type": "code",
   "execution_count": 31,
   "id": "b6544278-7bf8-4c32-9c49-f68b57af8975",
   "metadata": {},
   "outputs": [],
   "source": [
    "def Hola2(Salida):\n",
    "    print(Salida)"
   ]
  },
  {
   "cell_type": "code",
   "execution_count": 32,
   "id": "2ea541c8-73c0-4f80-82aa-3ab7cc6aacd5",
   "metadata": {},
   "outputs": [
    {
     "name": "stdout",
     "output_type": "stream",
     "text": [
      "Este es un mensaje\n"
     ]
    }
   ],
   "source": [
    "Hola2(\"Este es un mensaje\")"
   ]
  },
  {
   "cell_type": "code",
   "execution_count": 33,
   "id": "140c3f42-13b0-411a-bbbd-ad6f38192ef3",
   "metadata": {},
   "outputs": [
    {
     "name": "stdout",
     "output_type": "stream",
     "text": [
      "Otro mensaje\n"
     ]
    }
   ],
   "source": [
    "Hola2(\"Otro mensaje\")"
   ]
  },
  {
   "cell_type": "code",
   "execution_count": 34,
   "id": "681a2ccf-50ed-4361-b990-0f412bce8103",
   "metadata": {},
   "outputs": [
    {
     "name": "stdout",
     "output_type": "stream",
     "text": [
      "1234\n"
     ]
    }
   ],
   "source": [
    "Hola2(1234)"
   ]
  },
  {
   "cell_type": "code",
   "execution_count": 35,
   "id": "79567bf3-946a-490e-928f-93413fcb4872",
   "metadata": {},
   "outputs": [
    {
     "ename": "TypeError",
     "evalue": "Hola2() missing 1 required positional argument: 'Salida'",
     "output_type": "error",
     "traceback": [
      "\u001b[1;31m---------------------------------------------------------------------------\u001b[0m",
      "\u001b[1;31mTypeError\u001b[0m                                 Traceback (most recent call last)",
      "Cell \u001b[1;32mIn[35], line 1\u001b[0m\n\u001b[1;32m----> 1\u001b[0m \u001b[43mHola2\u001b[49m\u001b[43m(\u001b[49m\u001b[43m)\u001b[49m\n",
      "\u001b[1;31mTypeError\u001b[0m: Hola2() missing 1 required positional argument: 'Salida'"
     ]
    }
   ],
   "source": [
    "Hola2()"
   ]
  },
  {
   "cell_type": "markdown",
   "id": "6c9bacd2-571e-4d14-8664-1ed1aa9d7ec9",
   "metadata": {},
   "source": [
    "### Enviar los argumentos requeridos"
   ]
  },
  {
   "cell_type": "code",
   "execution_count": null,
   "id": "21ad0dd5-4ea8-49a4-a6cd-3c78f8a3e36a",
   "metadata": {},
   "outputs": [],
   "source": []
  },
  {
   "cell_type": "markdown",
   "id": "b6900534-8223-4d69-b2d7-f235510be6be",
   "metadata": {},
   "source": [
    "### Enviar los argumentos por palabra clave"
   ]
  },
  {
   "cell_type": "code",
   "execution_count": 39,
   "id": "d6c33b32-e94d-4eb3-9fb4-21a246ceba7a",
   "metadata": {},
   "outputs": [],
   "source": [
    "def Sumalo(Valor1, Valor2):\n",
    "    print(Valor1, \"+\", Valor2, \"=\", Valor1 + Valor2)"
   ]
  },
  {
   "cell_type": "code",
   "execution_count": 40,
   "id": "531d15d4-9325-417d-a194-0fe7cf0f69e3",
   "metadata": {},
   "outputs": [
    {
     "name": "stdout",
     "output_type": "stream",
     "text": [
      "3 + 8 = 11\n"
     ]
    }
   ],
   "source": [
    "Sumalo(3,8)"
   ]
  },
  {
   "cell_type": "code",
   "execution_count": 41,
   "id": "245ea748-f9c5-4b25-9e8a-2c9a61c53792",
   "metadata": {},
   "outputs": [
    {
     "name": "stdout",
     "output_type": "stream",
     "text": [
      "8 + 7 = 15\n"
     ]
    }
   ],
   "source": [
    "Sumalo(Valor2=7, Valor1=8)"
   ]
  },
  {
   "cell_type": "code",
   "execution_count": null,
   "id": "81b38f62-2d43-4331-9b8f-b6213c7a02cc",
   "metadata": {},
   "outputs": [],
   "source": []
  },
  {
   "cell_type": "markdown",
   "id": "3cfbbec6-d91d-4276-bad4-58ac4a4387c2",
   "metadata": {},
   "source": [
    "### Argumentos con valores predeterminados"
   ]
  },
  {
   "cell_type": "code",
   "execution_count": 62,
   "id": "3fd7e546-62c8-4aa3-a239-ab5ab80392c5",
   "metadata": {},
   "outputs": [],
   "source": [
    "def Hola3(Saludo=\"No se proporcionó valor\"):\n",
    "    print(Saludo)"
   ]
  },
  {
   "cell_type": "code",
   "execution_count": 63,
   "id": "2da70822-4384-4b95-96b1-8e3ae426471c",
   "metadata": {},
   "outputs": [
    {
     "name": "stdout",
     "output_type": "stream",
     "text": [
      "No se proporcionó valor\n"
     ]
    }
   ],
   "source": [
    "Hola3()"
   ]
  },
  {
   "cell_type": "code",
   "execution_count": 64,
   "id": "08743243-a272-4cf7-bc71-5d711a43d9a8",
   "metadata": {},
   "outputs": [
    {
     "name": "stdout",
     "output_type": "stream",
     "text": [
      "Esto es un string\n"
     ]
    }
   ],
   "source": [
    "Hola3(\"Esto es un string\")"
   ]
  },
  {
   "cell_type": "code",
   "execution_count": 65,
   "id": "43ecadbe-535f-470b-882b-368aa973b85f",
   "metadata": {},
   "outputs": [
    {
     "name": "stdout",
     "output_type": "stream",
     "text": [
      "5\n"
     ]
    }
   ],
   "source": [
    "Hola3(5)"
   ]
  },
  {
   "cell_type": "code",
   "execution_count": 66,
   "id": "e28cb2c4-ef25-45b8-844c-372f91ffba91",
   "metadata": {},
   "outputs": [
    {
     "name": "stdout",
     "output_type": "stream",
     "text": [
      "11\n"
     ]
    }
   ],
   "source": [
    "Hola3(5+6)"
   ]
  },
  {
   "cell_type": "markdown",
   "id": "b9da45d0-0038-4dcf-a207-aa37883ed914",
   "metadata": {},
   "source": [
    "### Funciones con un número variables de argumentos"
   ]
  },
  {
   "cell_type": "code",
   "execution_count": 67,
   "id": "9e686ed6-cb3c-4f9e-8b6a-da3639d67097",
   "metadata": {},
   "outputs": [],
   "source": [
    "def suma_numeros(*numeros):\n",
    "    resultado=0\n",
    "    for num in numeros:\n",
    "        resultado += num\n",
    "    return resultado"
   ]
  },
  {
   "cell_type": "code",
   "execution_count": 68,
   "id": "27e72123-bcc2-4f95-8c06-c48c3cacf9e9",
   "metadata": {},
   "outputs": [
    {
     "data": {
      "text/plain": [
       "6"
      ]
     },
     "execution_count": 68,
     "metadata": {},
     "output_type": "execute_result"
    }
   ],
   "source": [
    "suma_numeros(4,2)"
   ]
  },
  {
   "cell_type": "code",
   "execution_count": 69,
   "id": "8d84e0c8-3345-43f3-a0f2-85b90fb78e42",
   "metadata": {},
   "outputs": [
    {
     "data": {
      "text/plain": [
       "140"
      ]
     },
     "execution_count": 69,
     "metadata": {},
     "output_type": "execute_result"
    }
   ],
   "source": [
    "suma_numeros(20,30,40,50)"
   ]
  },
  {
   "cell_type": "code",
   "execution_count": 73,
   "id": "f16a4185-3b9a-491f-9818-045d7e38b6e4",
   "metadata": {},
   "outputs": [],
   "source": [
    "def Hola4(CantArg, *ArgVar):\n",
    "    print(\"Pasaste\", CantArg, \"argumento/s\")\n",
    "    for Arg in ArgVar:\n",
    "        print(Arg)"
   ]
  },
  {
   "cell_type": "code",
   "execution_count": 74,
   "id": "595373c5-a619-4fe0-8469-592e0e0ce67b",
   "metadata": {},
   "outputs": [
    {
     "name": "stdout",
     "output_type": "stream",
     "text": [
      "Pasaste 1 argumento/s\n",
      "Probando función\n"
     ]
    }
   ],
   "source": [
    "Hola4(1, \"Probando función\")"
   ]
  },
  {
   "cell_type": "code",
   "execution_count": 75,
   "id": "3a39c14c-ef5d-4c27-ad69-42011c7994d9",
   "metadata": {},
   "outputs": [
    {
     "name": "stdout",
     "output_type": "stream",
     "text": [
      "Pasaste 3 argumento/s\n",
      "uno\n",
      "dos\n",
      "tres\n"
     ]
    }
   ],
   "source": [
    "Hola4(3, \"uno\", \"dos\", \"tres\")"
   ]
  },
  {
   "cell_type": "markdown",
   "id": "74872292-daec-4c76-b62e-fd17ae0e8623",
   "metadata": {},
   "source": [
    "### Retornando información desde las funciones"
   ]
  },
  {
   "cell_type": "code",
   "execution_count": 76,
   "id": "108aa8b7-15e9-43d9-bba5-b8f0c2af83a2",
   "metadata": {},
   "outputs": [],
   "source": [
    "#return\n",
    "def Agrega (Valor1, Valor2):\n",
    "    return Valor1+Valor2"
   ]
  },
  {
   "cell_type": "code",
   "execution_count": 77,
   "id": "89346645-4a5e-42f3-adb8-2b08da901eac",
   "metadata": {},
   "outputs": [
    {
     "data": {
      "text/plain": [
       "14"
      ]
     },
     "execution_count": 77,
     "metadata": {},
     "output_type": "execute_result"
    }
   ],
   "source": [
    "Agrega(6,8)"
   ]
  },
  {
   "cell_type": "code",
   "execution_count": 78,
   "id": "a7aa616a-05d3-4c9a-9e53-29ce47bdc6ca",
   "metadata": {},
   "outputs": [
    {
     "data": {
      "text/plain": [
       "'Hola Mundo!'"
      ]
     },
     "execution_count": 78,
     "metadata": {},
     "output_type": "execute_result"
    }
   ],
   "source": [
    "Agrega(\"Hola \", \"Mundo!\") "
   ]
  },
  {
   "cell_type": "markdown",
   "id": "2b8b7061-7889-41f6-bbb1-c767e3c4afec",
   "metadata": {},
   "source": [
    "### Resultado de otras funciones"
   ]
  },
  {
   "cell_type": "code",
   "execution_count": 79,
   "id": "a12e720e-d269-4937-b752-f695c1bf2aa9",
   "metadata": {},
   "outputs": [],
   "source": [
    "def ObtenerDoble(numero):\n",
    "    return numero*2\n"
   ]
  },
  {
   "cell_type": "code",
   "execution_count": 80,
   "id": "cb39f9fe-78cf-4f07-8644-47e3373b310b",
   "metadata": {},
   "outputs": [
    {
     "data": {
      "text/plain": [
       "10"
      ]
     },
     "execution_count": 80,
     "metadata": {},
     "output_type": "execute_result"
    }
   ],
   "source": [
    "ObtenerDoble(5)"
   ]
  },
  {
   "cell_type": "code",
   "execution_count": 85,
   "id": "f50337e8-e5a5-4b04-905d-1f4ca9045133",
   "metadata": {},
   "outputs": [],
   "source": [
    "def ObtenerDobleDelCuadrado(numero):\n",
    "    cuadrado= numero * numero\n",
    "    return ObtenerDoble(cuadrado)"
   ]
  },
  {
   "cell_type": "code",
   "execution_count": 86,
   "id": "a43fcd2a-ffb4-4aca-855f-49004f22c814",
   "metadata": {},
   "outputs": [
    {
     "data": {
      "text/plain": [
       "18"
      ]
     },
     "execution_count": 86,
     "metadata": {},
     "output_type": "execute_result"
    }
   ],
   "source": [
    "ObtenerDobleDelCuadrado(3)"
   ]
  },
  {
   "cell_type": "markdown",
   "id": "4fd3973a-aaae-48b5-b3fa-d063a9eba6f9",
   "metadata": {},
   "source": [
    "### Comparación de retornos\n"
   ]
  },
  {
   "cell_type": "code",
   "execution_count": 87,
   "id": "c7ed22f8-d14c-4ec8-951d-e2d9243d1731",
   "metadata": {},
   "outputs": [
    {
     "data": {
      "text/plain": [
       "True"
      ]
     },
     "execution_count": 87,
     "metadata": {},
     "output_type": "execute_result"
    }
   ],
   "source": [
    "(Agrega(3,4) == Agrega(5,2))"
   ]
  },
  {
   "cell_type": "code",
   "execution_count": 88,
   "id": "906cb43f-cc56-45c9-86b2-9b5688833f08",
   "metadata": {},
   "outputs": [
    {
     "data": {
      "text/plain": [
       "False"
      ]
     },
     "execution_count": 88,
     "metadata": {},
     "output_type": "execute_result"
    }
   ],
   "source": [
    "(Agrega(3,4) == Agrega(5,6))"
   ]
  },
  {
   "cell_type": "code",
   "execution_count": null,
   "id": "17d40b86-1589-42ea-98f6-d09981dc4c28",
   "metadata": {},
   "outputs": [],
   "source": []
  }
 ],
 "metadata": {
  "kernelspec": {
   "display_name": "Python 3 (ipykernel)",
   "language": "python",
   "name": "python3"
  },
  "language_info": {
   "codemirror_mode": {
    "name": "ipython",
    "version": 3
   },
   "file_extension": ".py",
   "mimetype": "text/x-python",
   "name": "python",
   "nbconvert_exporter": "python",
   "pygments_lexer": "ipython3",
   "version": "3.11.4"
  }
 },
 "nbformat": 4,
 "nbformat_minor": 5
}
